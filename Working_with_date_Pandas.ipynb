{
 "cells": [
  {
   "cell_type": "code",
   "execution_count": 81,
   "id": "52c9781a-1054-4b66-b17a-44f7dab38ad7",
   "metadata": {},
   "outputs": [],
   "source": [
    "import pandas as pd\n",
    "import numpy as np"
   ]
  },
  {
   "cell_type": "code",
   "execution_count": 11,
   "id": "da262a54-04e7-4ea7-8963-a69c53b1386c",
   "metadata": {},
   "outputs": [
    {
     "data": {
      "text/html": [
       "<div>\n",
       "<style scoped>\n",
       "    .dataframe tbody tr th:only-of-type {\n",
       "        vertical-align: middle;\n",
       "    }\n",
       "\n",
       "    .dataframe tbody tr th {\n",
       "        vertical-align: top;\n",
       "    }\n",
       "\n",
       "    .dataframe thead th {\n",
       "        text-align: right;\n",
       "    }\n",
       "</style>\n",
       "<table border=\"1\" class=\"dataframe\">\n",
       "  <thead>\n",
       "    <tr style=\"text-align: right;\">\n",
       "      <th></th>\n",
       "      <th>order_date</th>\n",
       "      <th>rider_assigned</th>\n",
       "      <th>food_picked_up</th>\n",
       "      <th>food_delivered</th>\n",
       "      <th>successful_order</th>\n",
       "      <th>failed_order</th>\n",
       "      <th>rider_id</th>\n",
       "      <th>vendor_id</th>\n",
       "      <th>price</th>\n",
       "    </tr>\n",
       "  </thead>\n",
       "  <tbody>\n",
       "    <tr>\n",
       "      <th>0</th>\n",
       "      <td>2021-07-01 08:56:13</td>\n",
       "      <td>2021-07-01 09:04:09</td>\n",
       "      <td>2021-07-01 09:17:01</td>\n",
       "      <td>2021-07-01 09:29:58</td>\n",
       "      <td>1</td>\n",
       "      <td>0</td>\n",
       "      <td>bb2eac1de1b6d2b301fba4f2479c8cbf</td>\n",
       "      <td>ff6609fc0bf8b3824811a4ae7d431fd6</td>\n",
       "      <td>244.0</td>\n",
       "    </tr>\n",
       "    <tr>\n",
       "      <th>1</th>\n",
       "      <td>2021-07-01 10:16:07</td>\n",
       "      <td>2021-07-01 10:16:36</td>\n",
       "      <td>2021-07-01 10:49:33</td>\n",
       "      <td>2021-07-01 11:04:07</td>\n",
       "      <td>1</td>\n",
       "      <td>0</td>\n",
       "      <td>e46bfb686b9ff1d9de75f8d9ac604311</td>\n",
       "      <td>9e08b7b5bbd7d6162da8db1c8bb78f03</td>\n",
       "      <td>1064.0</td>\n",
       "    </tr>\n",
       "    <tr>\n",
       "      <th>2</th>\n",
       "      <td>2021-07-01 13:31:18</td>\n",
       "      <td>2021-07-01 13:31:37</td>\n",
       "      <td>2021-07-01 13:50:12</td>\n",
       "      <td>2021-07-01 14:08:42</td>\n",
       "      <td>1</td>\n",
       "      <td>0</td>\n",
       "      <td>2f5ce824cd2610e43c7d4136b4a78873</td>\n",
       "      <td>e522d9a7ad1528dd0b05bbfec5066679</td>\n",
       "      <td>1234.0</td>\n",
       "    </tr>\n",
       "    <tr>\n",
       "      <th>3</th>\n",
       "      <td>2021-07-01 10:40:13</td>\n",
       "      <td>2021-07-01 10:40:42</td>\n",
       "      <td>2021-07-01 10:57:57</td>\n",
       "      <td>2021-07-01 11:16:26</td>\n",
       "      <td>1</td>\n",
       "      <td>0</td>\n",
       "      <td>878c846a7bddb29f568a5b322648f1ad</td>\n",
       "      <td>e53c7bb7e4644ab981bc04a2c494c80c</td>\n",
       "      <td>794.0</td>\n",
       "    </tr>\n",
       "    <tr>\n",
       "      <th>4</th>\n",
       "      <td>2021-07-01 15:57:40</td>\n",
       "      <td>2021-07-01 16:02:01</td>\n",
       "      <td>2021-07-01 16:18:34</td>\n",
       "      <td>2021-07-01 16:24:45</td>\n",
       "      <td>1</td>\n",
       "      <td>0</td>\n",
       "      <td>23afbf36192aba3f273ecf933bbdad56</td>\n",
       "      <td>ed48b1d3514357db8163f5cd79582ab5</td>\n",
       "      <td>1346.0</td>\n",
       "    </tr>\n",
       "  </tbody>\n",
       "</table>\n",
       "</div>"
      ],
      "text/plain": [
       "            order_date       rider_assigned       food_picked_up  \\\n",
       "0  2021-07-01 08:56:13  2021-07-01 09:04:09  2021-07-01 09:17:01   \n",
       "1  2021-07-01 10:16:07  2021-07-01 10:16:36  2021-07-01 10:49:33   \n",
       "2  2021-07-01 13:31:18  2021-07-01 13:31:37  2021-07-01 13:50:12   \n",
       "3  2021-07-01 10:40:13  2021-07-01 10:40:42  2021-07-01 10:57:57   \n",
       "4  2021-07-01 15:57:40  2021-07-01 16:02:01  2021-07-01 16:18:34   \n",
       "\n",
       "        food_delivered  successful_order  failed_order  \\\n",
       "0  2021-07-01 09:29:58                 1             0   \n",
       "1  2021-07-01 11:04:07                 1             0   \n",
       "2  2021-07-01 14:08:42                 1             0   \n",
       "3  2021-07-01 11:16:26                 1             0   \n",
       "4  2021-07-01 16:24:45                 1             0   \n",
       "\n",
       "                           rider_id                         vendor_id   price  \n",
       "0  bb2eac1de1b6d2b301fba4f2479c8cbf  ff6609fc0bf8b3824811a4ae7d431fd6   244.0  \n",
       "1  e46bfb686b9ff1d9de75f8d9ac604311  9e08b7b5bbd7d6162da8db1c8bb78f03  1064.0  \n",
       "2  2f5ce824cd2610e43c7d4136b4a78873  e522d9a7ad1528dd0b05bbfec5066679  1234.0  \n",
       "3  878c846a7bddb29f568a5b322648f1ad  e53c7bb7e4644ab981bc04a2c494c80c   794.0  \n",
       "4  23afbf36192aba3f273ecf933bbdad56  ed48b1d3514357db8163f5cd79582ab5  1346.0  "
      ]
     },
     "execution_count": 11,
     "metadata": {},
     "output_type": "execute_result"
    }
   ],
   "source": [
    "df = pd.read_csv('orders_history.csv')\n",
    "df.head(5)"
   ]
  },
  {
   "cell_type": "code",
   "execution_count": 15,
   "id": "0cf48ab9-93ff-4d5f-ad66-1ef457f25e1b",
   "metadata": {},
   "outputs": [
    {
     "data": {
      "text/html": [
       "<div>\n",
       "<style scoped>\n",
       "    .dataframe tbody tr th:only-of-type {\n",
       "        vertical-align: middle;\n",
       "    }\n",
       "\n",
       "    .dataframe tbody tr th {\n",
       "        vertical-align: top;\n",
       "    }\n",
       "\n",
       "    .dataframe thead th {\n",
       "        text-align: right;\n",
       "    }\n",
       "</style>\n",
       "<table border=\"1\" class=\"dataframe\">\n",
       "  <thead>\n",
       "    <tr style=\"text-align: right;\">\n",
       "      <th></th>\n",
       "      <th>order_date</th>\n",
       "      <th>rider_assigned</th>\n",
       "      <th>food_picked_up</th>\n",
       "      <th>food_delivered</th>\n",
       "      <th>successful_order</th>\n",
       "      <th>failed_order</th>\n",
       "      <th>rider_id</th>\n",
       "      <th>vendor_id</th>\n",
       "      <th>price</th>\n",
       "    </tr>\n",
       "  </thead>\n",
       "  <tbody>\n",
       "    <tr>\n",
       "      <th>47939</th>\n",
       "      <td>2021-07-30 06:55:05</td>\n",
       "      <td>2021-07-30 06:55:38</td>\n",
       "      <td>2021-07-30 07:12:39</td>\n",
       "      <td>2021-07-30 07:21:34</td>\n",
       "      <td>1</td>\n",
       "      <td>0</td>\n",
       "      <td>105cf28f9cdcc006302b83605e9a4d32</td>\n",
       "      <td>915dff0f301281f975d4aac54026a576</td>\n",
       "      <td>1163.0</td>\n",
       "    </tr>\n",
       "    <tr>\n",
       "      <th>47940</th>\n",
       "      <td>2021-07-30 17:01:13</td>\n",
       "      <td>2021-07-30 17:01:23</td>\n",
       "      <td>2021-07-30 17:24:30</td>\n",
       "      <td>2021-07-30 17:27:21</td>\n",
       "      <td>1</td>\n",
       "      <td>0</td>\n",
       "      <td>05d30c6ccb433a5f39b879fcd579f873</td>\n",
       "      <td>40552e31feef1704dcca105f9fb6fef2</td>\n",
       "      <td>492.0</td>\n",
       "    </tr>\n",
       "    <tr>\n",
       "      <th>47941</th>\n",
       "      <td>2021-07-30 16:57:59</td>\n",
       "      <td>2021-07-30 16:59:21</td>\n",
       "      <td>2021-07-30 17:09:21</td>\n",
       "      <td>2021-07-30 17:25:56</td>\n",
       "      <td>1</td>\n",
       "      <td>0</td>\n",
       "      <td>1bf043ad9d32e841e479f739644a224e</td>\n",
       "      <td>460a0d84d9c1d460baf974def0d23117</td>\n",
       "      <td>1595.0</td>\n",
       "    </tr>\n",
       "    <tr>\n",
       "      <th>47942</th>\n",
       "      <td>2021-07-30 11:33:57</td>\n",
       "      <td>2021-07-30 11:34:08</td>\n",
       "      <td>2021-07-30 11:44:22</td>\n",
       "      <td>2021-07-30 11:47:40</td>\n",
       "      <td>1</td>\n",
       "      <td>0</td>\n",
       "      <td>05d30c6ccb433a5f39b879fcd579f873</td>\n",
       "      <td>fc08409966f5f5a27ad9b9846c6fe7e4</td>\n",
       "      <td>558.0</td>\n",
       "    </tr>\n",
       "    <tr>\n",
       "      <th>47943</th>\n",
       "      <td>2021-07-30 17:05:13</td>\n",
       "      <td>2021-07-30 17:05:20</td>\n",
       "      <td>NaN</td>\n",
       "      <td>NaN</td>\n",
       "      <td>0</td>\n",
       "      <td>1</td>\n",
       "      <td>4976acea6c2e2811328dc336c9e96fe3</td>\n",
       "      <td>297d3df24261709ff7cb6f04135e9caf</td>\n",
       "      <td>1447.0</td>\n",
       "    </tr>\n",
       "  </tbody>\n",
       "</table>\n",
       "</div>"
      ],
      "text/plain": [
       "                order_date       rider_assigned       food_picked_up  \\\n",
       "47939  2021-07-30 06:55:05  2021-07-30 06:55:38  2021-07-30 07:12:39   \n",
       "47940  2021-07-30 17:01:13  2021-07-30 17:01:23  2021-07-30 17:24:30   \n",
       "47941  2021-07-30 16:57:59  2021-07-30 16:59:21  2021-07-30 17:09:21   \n",
       "47942  2021-07-30 11:33:57  2021-07-30 11:34:08  2021-07-30 11:44:22   \n",
       "47943  2021-07-30 17:05:13  2021-07-30 17:05:20                  NaN   \n",
       "\n",
       "            food_delivered  successful_order  failed_order  \\\n",
       "47939  2021-07-30 07:21:34                 1             0   \n",
       "47940  2021-07-30 17:27:21                 1             0   \n",
       "47941  2021-07-30 17:25:56                 1             0   \n",
       "47942  2021-07-30 11:47:40                 1             0   \n",
       "47943                  NaN                 0             1   \n",
       "\n",
       "                               rider_id                         vendor_id  \\\n",
       "47939  105cf28f9cdcc006302b83605e9a4d32  915dff0f301281f975d4aac54026a576   \n",
       "47940  05d30c6ccb433a5f39b879fcd579f873  40552e31feef1704dcca105f9fb6fef2   \n",
       "47941  1bf043ad9d32e841e479f739644a224e  460a0d84d9c1d460baf974def0d23117   \n",
       "47942  05d30c6ccb433a5f39b879fcd579f873  fc08409966f5f5a27ad9b9846c6fe7e4   \n",
       "47943  4976acea6c2e2811328dc336c9e96fe3  297d3df24261709ff7cb6f04135e9caf   \n",
       "\n",
       "        price  \n",
       "47939  1163.0  \n",
       "47940   492.0  \n",
       "47941  1595.0  \n",
       "47942   558.0  \n",
       "47943  1447.0  "
      ]
     },
     "execution_count": 15,
     "metadata": {},
     "output_type": "execute_result"
    }
   ],
   "source": [
    "df.tail(5)"
   ]
  },
  {
   "cell_type": "markdown",
   "id": "db626711-7278-4f6d-8740-b43d246daa17",
   "metadata": {},
   "source": [
    "Опции pandas "
   ]
  },
  {
   "cell_type": "code",
   "execution_count": 26,
   "id": "0c5eedd7-e0f2-4cde-93c4-58b21f482c70",
   "metadata": {},
   "outputs": [],
   "source": [
    "# по умолчанию выводится 20 столбцов и 60 строк. Можно изменить с помощью:\n",
    "pd.set_option('display.max_columns', 100)\n",
    "pd.set_option('display.max_rows', 100)"
   ]
  },
  {
   "cell_type": "code",
   "execution_count": 28,
   "id": "52ac218a-8e6f-4612-851e-8dbe8324ba46",
   "metadata": {},
   "outputs": [],
   "source": [
    "#задаем точность, с которой мы отображаем числа с плавающей точкой \n",
    "pd.set_option('display.precision', 3)"
   ]
  },
  {
   "cell_type": "code",
   "execution_count": 30,
   "id": "19d7d370-f550-465d-adf0-53dfe0a59504",
   "metadata": {},
   "outputs": [
    {
     "data": {
      "text/plain": [
       "(47944, 9)"
      ]
     },
     "execution_count": 30,
     "metadata": {},
     "output_type": "execute_result"
    }
   ],
   "source": [
    "df.shape"
   ]
  },
  {
   "cell_type": "code",
   "execution_count": 32,
   "id": "a57c8ecf-872a-48a4-bb28-ef0bb743e265",
   "metadata": {},
   "outputs": [
    {
     "data": {
      "text/plain": [
       "47944"
      ]
     },
     "execution_count": 32,
     "metadata": {},
     "output_type": "execute_result"
    }
   ],
   "source": [
    "df.shape[0]"
   ]
  },
  {
   "cell_type": "code",
   "execution_count": 34,
   "id": "2ba18c80-2e30-4e15-91ef-6e9436eea53a",
   "metadata": {},
   "outputs": [
    {
     "data": {
      "text/plain": [
       "Index(['order_date', 'rider_assigned', 'food_picked_up', 'food_delivered',\n",
       "       'successful_order', 'failed_order', 'rider_id', 'vendor_id', 'price'],\n",
       "      dtype='object')"
      ]
     },
     "execution_count": 34,
     "metadata": {},
     "output_type": "execute_result"
    }
   ],
   "source": [
    "df.columns"
   ]
  },
  {
   "cell_type": "code",
   "execution_count": 44,
   "id": "38191251-45f1-4009-a873-f52eaf55f4a4",
   "metadata": {},
   "outputs": [
    {
     "data": {
      "text/html": [
       "<div>\n",
       "<style scoped>\n",
       "    .dataframe tbody tr th:only-of-type {\n",
       "        vertical-align: middle;\n",
       "    }\n",
       "\n",
       "    .dataframe tbody tr th {\n",
       "        vertical-align: top;\n",
       "    }\n",
       "\n",
       "    .dataframe thead th {\n",
       "        text-align: right;\n",
       "    }\n",
       "</style>\n",
       "<table border=\"1\" class=\"dataframe\">\n",
       "  <thead>\n",
       "    <tr style=\"text-align: right;\">\n",
       "      <th></th>\n",
       "      <th>successful_order</th>\n",
       "      <th>failed_order</th>\n",
       "      <th>price</th>\n",
       "    </tr>\n",
       "  </thead>\n",
       "  <tbody>\n",
       "    <tr>\n",
       "      <th>count</th>\n",
       "      <td>47944.000</td>\n",
       "      <td>47944.000</td>\n",
       "      <td>47944.000</td>\n",
       "    </tr>\n",
       "    <tr>\n",
       "      <th>mean</th>\n",
       "      <td>0.964</td>\n",
       "      <td>0.016</td>\n",
       "      <td>957.196</td>\n",
       "    </tr>\n",
       "    <tr>\n",
       "      <th>std</th>\n",
       "      <td>0.187</td>\n",
       "      <td>0.125</td>\n",
       "      <td>427.112</td>\n",
       "    </tr>\n",
       "    <tr>\n",
       "      <th>min</th>\n",
       "      <td>0.000</td>\n",
       "      <td>0.000</td>\n",
       "      <td>223.000</td>\n",
       "    </tr>\n",
       "    <tr>\n",
       "      <th>25%</th>\n",
       "      <td>1.000</td>\n",
       "      <td>0.000</td>\n",
       "      <td>586.000</td>\n",
       "    </tr>\n",
       "    <tr>\n",
       "      <th>50%</th>\n",
       "      <td>1.000</td>\n",
       "      <td>0.000</td>\n",
       "      <td>956.000</td>\n",
       "    </tr>\n",
       "    <tr>\n",
       "      <th>75%</th>\n",
       "      <td>1.000</td>\n",
       "      <td>0.000</td>\n",
       "      <td>1327.000</td>\n",
       "    </tr>\n",
       "    <tr>\n",
       "      <th>max</th>\n",
       "      <td>1.000</td>\n",
       "      <td>1.000</td>\n",
       "      <td>1700.000</td>\n",
       "    </tr>\n",
       "  </tbody>\n",
       "</table>\n",
       "</div>"
      ],
      "text/plain": [
       "       successful_order  failed_order      price\n",
       "count         47944.000     47944.000  47944.000\n",
       "mean              0.964         0.016    957.196\n",
       "std               0.187         0.125    427.112\n",
       "min               0.000         0.000    223.000\n",
       "25%               1.000         0.000    586.000\n",
       "50%               1.000         0.000    956.000\n",
       "75%               1.000         0.000   1327.000\n",
       "max               1.000         1.000   1700.000"
      ]
     },
     "execution_count": 44,
     "metadata": {},
     "output_type": "execute_result"
    }
   ],
   "source": [
    "#для просмотра числовых статистик\n",
    "df.describe()"
   ]
  },
  {
   "cell_type": "code",
   "execution_count": 48,
   "id": "4e8acece-a4d9-472a-9a20-6ded85ad97d7",
   "metadata": {},
   "outputs": [
    {
     "data": {
      "text/html": [
       "<div>\n",
       "<style scoped>\n",
       "    .dataframe tbody tr th:only-of-type {\n",
       "        vertical-align: middle;\n",
       "    }\n",
       "\n",
       "    .dataframe tbody tr th {\n",
       "        vertical-align: top;\n",
       "    }\n",
       "\n",
       "    .dataframe thead th {\n",
       "        text-align: right;\n",
       "    }\n",
       "</style>\n",
       "<table border=\"1\" class=\"dataframe\">\n",
       "  <thead>\n",
       "    <tr style=\"text-align: right;\">\n",
       "      <th></th>\n",
       "      <th>order_date</th>\n",
       "      <th>rider_assigned</th>\n",
       "      <th>food_picked_up</th>\n",
       "      <th>food_delivered</th>\n",
       "      <th>rider_id</th>\n",
       "      <th>vendor_id</th>\n",
       "    </tr>\n",
       "  </thead>\n",
       "  <tbody>\n",
       "    <tr>\n",
       "      <th>count</th>\n",
       "      <td>47944</td>\n",
       "      <td>47883</td>\n",
       "      <td>46364</td>\n",
       "      <td>46260</td>\n",
       "      <td>47883</td>\n",
       "      <td>47944</td>\n",
       "    </tr>\n",
       "    <tr>\n",
       "      <th>unique</th>\n",
       "      <td>47082</td>\n",
       "      <td>45276</td>\n",
       "      <td>45525</td>\n",
       "      <td>45421</td>\n",
       "      <td>447</td>\n",
       "      <td>406</td>\n",
       "    </tr>\n",
       "    <tr>\n",
       "      <th>top</th>\n",
       "      <td>2021-07-19 09:07:03</td>\n",
       "      <td>2021-07-16 12:42:08</td>\n",
       "      <td>2021-07-13 10:27:16</td>\n",
       "      <td>2021-07-14 15:22:34</td>\n",
       "      <td>b7f93e38b59f20af3456fb85d827c0d3</td>\n",
       "      <td>9d3c4307b57777be1d4923d89fe1856d</td>\n",
       "    </tr>\n",
       "    <tr>\n",
       "      <th>freq</th>\n",
       "      <td>3</td>\n",
       "      <td>8</td>\n",
       "      <td>3</td>\n",
       "      <td>3</td>\n",
       "      <td>594</td>\n",
       "      <td>1945</td>\n",
       "    </tr>\n",
       "  </tbody>\n",
       "</table>\n",
       "</div>"
      ],
      "text/plain": [
       "                 order_date       rider_assigned       food_picked_up  \\\n",
       "count                 47944                47883                46364   \n",
       "unique                47082                45276                45525   \n",
       "top     2021-07-19 09:07:03  2021-07-16 12:42:08  2021-07-13 10:27:16   \n",
       "freq                      3                    8                    3   \n",
       "\n",
       "             food_delivered                          rider_id  \\\n",
       "count                 46260                             47883   \n",
       "unique                45421                               447   \n",
       "top     2021-07-14 15:22:34  b7f93e38b59f20af3456fb85d827c0d3   \n",
       "freq                      3                               594   \n",
       "\n",
       "                               vendor_id  \n",
       "count                              47944  \n",
       "unique                               406  \n",
       "top     9d3c4307b57777be1d4923d89fe1856d  \n",
       "freq                                1945  "
      ]
     },
     "execution_count": 48,
     "metadata": {},
     "output_type": "execute_result"
    }
   ],
   "source": [
    "#статистики по не числовым колонкам \n",
    "df.describe(include = ['object'])"
   ]
  },
  {
   "cell_type": "code",
   "execution_count": 50,
   "id": "dce0fa1a-7a7a-408f-94f2-d061f38d6454",
   "metadata": {},
   "outputs": [
    {
     "data": {
      "text/plain": [
       "vendor_id\n",
       "9d3c4307b57777be1d4923d89fe1856d    1945\n",
       "664f822c55bccff52b742f26000dde4b    1232\n",
       "f14a6286c9a5d2813c91f6c7d4864a39    1207\n",
       "554aa4cfb03c2cee2301f11518d27ed4    1180\n",
       "eb8fb38c9c319130400ea46fe70e4b87     935\n",
       "08fcff35984652544c1fced8d7890442     931\n",
       "834c264af3fdc2dba2fa77fa48b8788c     853\n",
       "3220d5811c5b78640facd3c2d37b9223     853\n",
       "4880f8a21aa5d0087f7aba4340b9d46a     771\n",
       "aaa3d0d3301d2467ea1597b831de7ee6     751\n",
       "Name: count, dtype: int64"
      ]
     },
     "execution_count": 50,
     "metadata": {},
     "output_type": "execute_result"
    }
   ],
   "source": [
    "#так же по нечисловым колонкам можно изучить распределение \n",
    "df.vendor_id.value_counts(dropna = False)[:10]"
   ]
  },
  {
   "cell_type": "code",
   "execution_count": 52,
   "id": "ec15ea32-55a4-417a-8e00-6d5dae1d05c8",
   "metadata": {},
   "outputs": [
    {
     "name": "stdout",
     "output_type": "stream",
     "text": [
      "<class 'pandas.core.frame.DataFrame'>\n",
      "RangeIndex: 47944 entries, 0 to 47943\n",
      "Data columns (total 9 columns):\n",
      " #   Column            Non-Null Count  Dtype  \n",
      "---  ------            --------------  -----  \n",
      " 0   order_date        47944 non-null  object \n",
      " 1   rider_assigned    47883 non-null  object \n",
      " 2   food_picked_up    46364 non-null  object \n",
      " 3   food_delivered    46260 non-null  object \n",
      " 4   successful_order  47944 non-null  int64  \n",
      " 5   failed_order      47944 non-null  int64  \n",
      " 6   rider_id          47883 non-null  object \n",
      " 7   vendor_id         47944 non-null  object \n",
      " 8   price             47944 non-null  float64\n",
      "dtypes: float64(1), int64(2), object(6)\n",
      "memory usage: 3.3+ MB\n"
     ]
    }
   ],
   "source": [
    "df.info()"
   ]
  },
  {
   "cell_type": "markdown",
   "id": "3af846d0-9a1c-48f3-82cb-a19d48bab30f",
   "metadata": {},
   "source": [
    "В случае работы с датафреймом занимаемая память - критичной фактор "
   ]
  },
  {
   "cell_type": "code",
   "execution_count": 55,
   "id": "e758a880-78fc-49a3-b83c-26d78ae8f0ca",
   "metadata": {},
   "outputs": [
    {
     "name": "stdout",
     "output_type": "stream",
     "text": [
      "Average memory usage for float columns: 0.18 MB\n",
      "Average memory usage for int columns: 0.24 MB\n",
      "Average memory usage for object columns: 2.82 MB\n"
     ]
    }
   ],
   "source": [
    "# с помощью данного кода мы смотри какое количество памяти занимает определённый тип колонок\n",
    "for dtype in ['float', 'int', 'object']:\n",
    "    selected_dtype = df.select_dtypes(include = [dtype])\n",
    "    mean_usage_b = selected_dtype.memory_usage(deep = True).mean()\n",
    "    mean_usage_mb = mean_usage_b/ 1024**2\n",
    "    print('Average memory usage for {} columns: {:03.2f} MB'.format(dtype, mean_usage_mb))"
   ]
  },
  {
   "cell_type": "code",
   "execution_count": 61,
   "id": "33c59def-b33e-4c6f-8883-35d37383fec9",
   "metadata": {},
   "outputs": [],
   "source": [
    "# изменение типа колонок, если это необходимо \n",
    "df['price'] = df['price'].astype('float32')"
   ]
  },
  {
   "cell_type": "code",
   "execution_count": 63,
   "id": "3efc0cbc-0602-4bb5-b876-e77bc3e4df3d",
   "metadata": {},
   "outputs": [
    {
     "name": "stdout",
     "output_type": "stream",
     "text": [
      "<class 'pandas.core.frame.DataFrame'>\n",
      "RangeIndex: 47944 entries, 0 to 47943\n",
      "Data columns (total 9 columns):\n",
      " #   Column            Non-Null Count  Dtype  \n",
      "---  ------            --------------  -----  \n",
      " 0   order_date        47944 non-null  object \n",
      " 1   rider_assigned    47883 non-null  object \n",
      " 2   food_picked_up    46364 non-null  object \n",
      " 3   food_delivered    46260 non-null  object \n",
      " 4   successful_order  47944 non-null  int64  \n",
      " 5   failed_order      47944 non-null  int64  \n",
      " 6   rider_id          47883 non-null  object \n",
      " 7   vendor_id         47944 non-null  object \n",
      " 8   price             47944 non-null  float32\n",
      "dtypes: float32(1), int64(2), object(6)\n",
      "memory usage: 3.1+ MB\n"
     ]
    }
   ],
   "source": [
    "df.info()"
   ]
  },
  {
   "cell_type": "markdown",
   "id": "8d9abe7c-5cb2-4044-aeeb-4f1e7de4a17f",
   "metadata": {},
   "source": [
    "### Тип данный КАТЕГОРИЯ "
   ]
  },
  {
   "cell_type": "markdown",
   "id": "4856086f-8e23-4e60-ae0b-c2763483e905",
   "metadata": {},
   "source": [
    "Он позволяет:\n",
    "\n",
    "- более эффективно работать с категориальными (нечисловыми) признаками\n",
    "- многие питоновские библиотеки имеют встроенные методы по работе с категориальными признаками \n",
    "- такие признаки занимают меньше места и такж положительно сказываются на производительности "
   ]
  },
  {
   "cell_type": "code",
   "execution_count": 73,
   "id": "72891a9f-34a6-4814-a420-eefd4a533474",
   "metadata": {},
   "outputs": [],
   "source": [
    "df_with_cat = df.copy()"
   ]
  },
  {
   "cell_type": "code",
   "execution_count": 75,
   "id": "f62d07fe-73d5-416e-815f-c85cee743c3b",
   "metadata": {},
   "outputs": [],
   "source": [
    "df_with_cat['vendor_id'] = df_with_cat['vendor_id'].astype('category')"
   ]
  },
  {
   "cell_type": "code",
   "execution_count": 77,
   "id": "54c27a4e-eb9f-44fc-acbf-27a857aed3fd",
   "metadata": {},
   "outputs": [
    {
     "name": "stdout",
     "output_type": "stream",
     "text": [
      "<class 'pandas.core.frame.DataFrame'>\n",
      "RangeIndex: 47944 entries, 0 to 47943\n",
      "Data columns (total 9 columns):\n",
      " #   Column            Non-Null Count  Dtype   \n",
      "---  ------            --------------  -----   \n",
      " 0   order_date        47944 non-null  object  \n",
      " 1   rider_assigned    47883 non-null  object  \n",
      " 2   food_picked_up    46364 non-null  object  \n",
      " 3   food_delivered    46260 non-null  object  \n",
      " 4   successful_order  47944 non-null  int64   \n",
      " 5   failed_order      47944 non-null  int64   \n",
      " 6   rider_id          47883 non-null  object  \n",
      " 7   vendor_id         47944 non-null  category\n",
      " 8   price             47944 non-null  float32 \n",
      "dtypes: category(1), float32(1), int64(2), object(5)\n",
      "memory usage: 2.9+ MB\n"
     ]
    }
   ],
   "source": [
    "df_with_cat.info()"
   ]
  },
  {
   "cell_type": "code",
   "execution_count": 85,
   "id": "40992384-1929-4fe7-9fed-b2f1947d912f",
   "metadata": {},
   "outputs": [
    {
     "name": "stdout",
     "output_type": "stream",
     "text": [
      "3.74 ms ± 722 μs per loop (mean ± std. dev. of 7 runs, 100 loops each)\n"
     ]
    }
   ],
   "source": [
    "%%timeit\n",
    "df.groupby('vendor_id')['price'].mean().to_frame()"
   ]
  },
  {
   "cell_type": "code",
   "execution_count": 89,
   "id": "e72212fb-4177-4188-bcf9-25cfa3d3ef40",
   "metadata": {},
   "outputs": [
    {
     "name": "stderr",
     "output_type": "stream",
     "text": [
      "<magic-timeit>:1: FutureWarning: The default of observed=False is deprecated and will be changed to True in a future version of pandas. Pass observed=False to retain current behavior or observed=True to adopt the future default and silence this warning.\n"
     ]
    },
    {
     "name": "stdout",
     "output_type": "stream",
     "text": [
      "532 μs ± 44.9 μs per loop (mean ± std. dev. of 7 runs, 1,000 loops each)\n"
     ]
    }
   ],
   "source": [
    "%%timeit\n",
    "df_with_cat.groupby('vendor_id')['price'].mean().to_frame()"
   ]
  },
  {
   "cell_type": "code",
   "execution_count": 91,
   "id": "98eea6c2-820c-4aaf-b704-d5e9d45068ec",
   "metadata": {},
   "outputs": [
    {
     "data": {
      "text/html": [
       "<div>\n",
       "<style scoped>\n",
       "    .dataframe tbody tr th:only-of-type {\n",
       "        vertical-align: middle;\n",
       "    }\n",
       "\n",
       "    .dataframe tbody tr th {\n",
       "        vertical-align: top;\n",
       "    }\n",
       "\n",
       "    .dataframe thead th {\n",
       "        text-align: right;\n",
       "    }\n",
       "</style>\n",
       "<table border=\"1\" class=\"dataframe\">\n",
       "  <thead>\n",
       "    <tr style=\"text-align: right;\">\n",
       "      <th></th>\n",
       "      <th>order_date</th>\n",
       "      <th>rider_assigned</th>\n",
       "      <th>food_picked_up</th>\n",
       "      <th>food_delivered</th>\n",
       "      <th>successful_order</th>\n",
       "      <th>failed_order</th>\n",
       "      <th>rider_id</th>\n",
       "      <th>vendor_id</th>\n",
       "      <th>price</th>\n",
       "    </tr>\n",
       "  </thead>\n",
       "  <tbody>\n",
       "    <tr>\n",
       "      <th>11454</th>\n",
       "      <td>2021-07-08 15:30:40</td>\n",
       "      <td>2021-07-08 15:31:34</td>\n",
       "      <td>2021-07-08 15:42:18</td>\n",
       "      <td>2021-07-08 15:52:01</td>\n",
       "      <td>1</td>\n",
       "      <td>0</td>\n",
       "      <td>8a9ad87687aedb90c09dad90499a3fb8</td>\n",
       "      <td>014a1b8ef4b3e615893258d810b88a96</td>\n",
       "      <td>1007.0</td>\n",
       "    </tr>\n",
       "    <tr>\n",
       "      <th>27278</th>\n",
       "      <td>2021-07-18 13:46:31</td>\n",
       "      <td>2021-07-18 13:46:59</td>\n",
       "      <td>2021-07-18 13:58:20</td>\n",
       "      <td>2021-07-18 14:04:21</td>\n",
       "      <td>1</td>\n",
       "      <td>0</td>\n",
       "      <td>3892d37cbb9196714a3c6cc9ca8d936a</td>\n",
       "      <td>014a1b8ef4b3e615893258d810b88a96</td>\n",
       "      <td>803.0</td>\n",
       "    </tr>\n",
       "  </tbody>\n",
       "</table>\n",
       "</div>"
      ],
      "text/plain": [
       "                order_date       rider_assigned       food_picked_up  \\\n",
       "11454  2021-07-08 15:30:40  2021-07-08 15:31:34  2021-07-08 15:42:18   \n",
       "27278  2021-07-18 13:46:31  2021-07-18 13:46:59  2021-07-18 13:58:20   \n",
       "\n",
       "            food_delivered  successful_order  failed_order  \\\n",
       "11454  2021-07-08 15:52:01                 1             0   \n",
       "27278  2021-07-18 14:04:21                 1             0   \n",
       "\n",
       "                               rider_id                         vendor_id  \\\n",
       "11454  8a9ad87687aedb90c09dad90499a3fb8  014a1b8ef4b3e615893258d810b88a96   \n",
       "27278  3892d37cbb9196714a3c6cc9ca8d936a  014a1b8ef4b3e615893258d810b88a96   \n",
       "\n",
       "        price  \n",
       "11454  1007.0  \n",
       "27278   803.0  "
      ]
     },
     "execution_count": 91,
     "metadata": {},
     "output_type": "execute_result"
    }
   ],
   "source": [
    "#сортировка \n",
    "df.sort_values(by = ['vendor_id', 'price'], ascending = [True, False]).head(2)"
   ]
  },
  {
   "cell_type": "code",
   "execution_count": 93,
   "id": "56afdb72-facb-4897-af62-81f2effcbfe5",
   "metadata": {},
   "outputs": [
    {
     "data": {
      "text/html": [
       "<div>\n",
       "<style scoped>\n",
       "    .dataframe tbody tr th:only-of-type {\n",
       "        vertical-align: middle;\n",
       "    }\n",
       "\n",
       "    .dataframe tbody tr th {\n",
       "        vertical-align: top;\n",
       "    }\n",
       "\n",
       "    .dataframe thead th {\n",
       "        text-align: right;\n",
       "    }\n",
       "</style>\n",
       "<table border=\"1\" class=\"dataframe\">\n",
       "  <thead>\n",
       "    <tr style=\"text-align: right;\">\n",
       "      <th></th>\n",
       "      <th>order_date</th>\n",
       "      <th>rider_assigned</th>\n",
       "      <th>food_picked_up</th>\n",
       "      <th>food_delivered</th>\n",
       "    </tr>\n",
       "  </thead>\n",
       "  <tbody>\n",
       "    <tr>\n",
       "      <th>0</th>\n",
       "      <td>2021-07-01 08:56:13</td>\n",
       "      <td>2021-07-01 09:04:09</td>\n",
       "      <td>2021-07-01 09:17:01</td>\n",
       "      <td>2021-07-01 09:29:58</td>\n",
       "    </tr>\n",
       "    <tr>\n",
       "      <th>1</th>\n",
       "      <td>2021-07-01 10:16:07</td>\n",
       "      <td>2021-07-01 10:16:36</td>\n",
       "      <td>2021-07-01 10:49:33</td>\n",
       "      <td>2021-07-01 11:04:07</td>\n",
       "    </tr>\n",
       "    <tr>\n",
       "      <th>2</th>\n",
       "      <td>2021-07-01 13:31:18</td>\n",
       "      <td>2021-07-01 13:31:37</td>\n",
       "      <td>2021-07-01 13:50:12</td>\n",
       "      <td>2021-07-01 14:08:42</td>\n",
       "    </tr>\n",
       "    <tr>\n",
       "      <th>3</th>\n",
       "      <td>2021-07-01 10:40:13</td>\n",
       "      <td>2021-07-01 10:40:42</td>\n",
       "      <td>2021-07-01 10:57:57</td>\n",
       "      <td>2021-07-01 11:16:26</td>\n",
       "    </tr>\n",
       "    <tr>\n",
       "      <th>4</th>\n",
       "      <td>2021-07-01 15:57:40</td>\n",
       "      <td>2021-07-01 16:02:01</td>\n",
       "      <td>2021-07-01 16:18:34</td>\n",
       "      <td>2021-07-01 16:24:45</td>\n",
       "    </tr>\n",
       "    <tr>\n",
       "      <th>...</th>\n",
       "      <td>...</td>\n",
       "      <td>...</td>\n",
       "      <td>...</td>\n",
       "      <td>...</td>\n",
       "    </tr>\n",
       "    <tr>\n",
       "      <th>47939</th>\n",
       "      <td>2021-07-30 06:55:05</td>\n",
       "      <td>2021-07-30 06:55:38</td>\n",
       "      <td>2021-07-30 07:12:39</td>\n",
       "      <td>2021-07-30 07:21:34</td>\n",
       "    </tr>\n",
       "    <tr>\n",
       "      <th>47940</th>\n",
       "      <td>2021-07-30 17:01:13</td>\n",
       "      <td>2021-07-30 17:01:23</td>\n",
       "      <td>2021-07-30 17:24:30</td>\n",
       "      <td>2021-07-30 17:27:21</td>\n",
       "    </tr>\n",
       "    <tr>\n",
       "      <th>47941</th>\n",
       "      <td>2021-07-30 16:57:59</td>\n",
       "      <td>2021-07-30 16:59:21</td>\n",
       "      <td>2021-07-30 17:09:21</td>\n",
       "      <td>2021-07-30 17:25:56</td>\n",
       "    </tr>\n",
       "    <tr>\n",
       "      <th>47942</th>\n",
       "      <td>2021-07-30 11:33:57</td>\n",
       "      <td>2021-07-30 11:34:08</td>\n",
       "      <td>2021-07-30 11:44:22</td>\n",
       "      <td>2021-07-30 11:47:40</td>\n",
       "    </tr>\n",
       "    <tr>\n",
       "      <th>47943</th>\n",
       "      <td>2021-07-30 17:05:13</td>\n",
       "      <td>2021-07-30 17:05:20</td>\n",
       "      <td>NaN</td>\n",
       "      <td>NaN</td>\n",
       "    </tr>\n",
       "  </tbody>\n",
       "</table>\n",
       "<p>47944 rows × 4 columns</p>\n",
       "</div>"
      ],
      "text/plain": [
       "                order_date       rider_assigned       food_picked_up  \\\n",
       "0      2021-07-01 08:56:13  2021-07-01 09:04:09  2021-07-01 09:17:01   \n",
       "1      2021-07-01 10:16:07  2021-07-01 10:16:36  2021-07-01 10:49:33   \n",
       "2      2021-07-01 13:31:18  2021-07-01 13:31:37  2021-07-01 13:50:12   \n",
       "3      2021-07-01 10:40:13  2021-07-01 10:40:42  2021-07-01 10:57:57   \n",
       "4      2021-07-01 15:57:40  2021-07-01 16:02:01  2021-07-01 16:18:34   \n",
       "...                    ...                  ...                  ...   \n",
       "47939  2021-07-30 06:55:05  2021-07-30 06:55:38  2021-07-30 07:12:39   \n",
       "47940  2021-07-30 17:01:13  2021-07-30 17:01:23  2021-07-30 17:24:30   \n",
       "47941  2021-07-30 16:57:59  2021-07-30 16:59:21  2021-07-30 17:09:21   \n",
       "47942  2021-07-30 11:33:57  2021-07-30 11:34:08  2021-07-30 11:44:22   \n",
       "47943  2021-07-30 17:05:13  2021-07-30 17:05:20                  NaN   \n",
       "\n",
       "            food_delivered  \n",
       "0      2021-07-01 09:29:58  \n",
       "1      2021-07-01 11:04:07  \n",
       "2      2021-07-01 14:08:42  \n",
       "3      2021-07-01 11:16:26  \n",
       "4      2021-07-01 16:24:45  \n",
       "...                    ...  \n",
       "47939  2021-07-30 07:21:34  \n",
       "47940  2021-07-30 17:27:21  \n",
       "47941  2021-07-30 17:25:56  \n",
       "47942  2021-07-30 11:47:40  \n",
       "47943                  NaN  \n",
       "\n",
       "[47944 rows x 4 columns]"
      ]
     },
     "execution_count": 93,
     "metadata": {},
     "output_type": "execute_result"
    }
   ],
   "source": [
    "#извлечение данных \n",
    "df.iloc[:, 0:4]"
   ]
  },
  {
   "cell_type": "markdown",
   "id": "950617c1-75d5-4bfb-b949-816a9efea16a",
   "metadata": {},
   "source": [
    "### Группировка данных"
   ]
  },
  {
   "cell_type": "code",
   "execution_count": 130,
   "id": "81c26eb3-932e-4733-9332-d360e6e39526",
   "metadata": {},
   "outputs": [
    {
     "data": {
      "text/plain": [
       "vendor_id\n",
       "014a1b8ef4b3e615893258d810b88a96    1007.0\n",
       "014ca478889f2f66363eb8cbdf832516    1371.0\n",
       "0172ff8832b405b53761303d86df2a86    1689.0\n",
       "01b0bef321650ae048605b203c8efa1f    1686.0\n",
       "020ed7abb2b318c3d7aa98f50e7185fb     603.0\n",
       "                                     ...  \n",
       "fc08409966f5f5a27ad9b9846c6fe7e4    1690.0\n",
       "fd0da4aea5306c25014761df6c475db9    1699.0\n",
       "fd4dc3cc70d25a8ed11303eae34ca89f    1479.0\n",
       "fde4b2502012e38506485ecfad48aa02    1697.0\n",
       "ff6609fc0bf8b3824811a4ae7d431fd6    1684.0\n",
       "Name: price, Length: 406, dtype: float32"
      ]
     },
     "execution_count": 130,
     "metadata": {},
     "output_type": "execute_result"
    }
   ],
   "source": [
    "df_group = df.groupby('vendor_id')['price'].max()\n",
    "df_group"
   ]
  },
  {
   "cell_type": "code",
   "execution_count": 126,
   "id": "38658dff-28ce-4572-ac61-02c67734e5e5",
   "metadata": {},
   "outputs": [
    {
     "name": "stderr",
     "output_type": "stream",
     "text": [
      "C:\\Users\\79918\\AppData\\Local\\Temp\\ipykernel_21472\\1671118172.py:1: FutureWarning: The provided callable <function mean at 0x000001E8B85B6A20> is currently using SeriesGroupBy.mean. In a future version of pandas, the provided callable will be used directly. To keep current behavior pass the string \"mean\" instead.\n",
      "  df_group = df.groupby('vendor_id')['price'].agg([np.mean, np.std, np.min, np.max])\n",
      "C:\\Users\\79918\\AppData\\Local\\Temp\\ipykernel_21472\\1671118172.py:1: FutureWarning: The provided callable <function std at 0x000001E8B85B6B60> is currently using SeriesGroupBy.std. In a future version of pandas, the provided callable will be used directly. To keep current behavior pass the string \"std\" instead.\n",
      "  df_group = df.groupby('vendor_id')['price'].agg([np.mean, np.std, np.min, np.max])\n",
      "C:\\Users\\79918\\AppData\\Local\\Temp\\ipykernel_21472\\1671118172.py:1: FutureWarning: The provided callable <function min at 0x000001E8B85B6160> is currently using SeriesGroupBy.min. In a future version of pandas, the provided callable will be used directly. To keep current behavior pass the string \"min\" instead.\n",
      "  df_group = df.groupby('vendor_id')['price'].agg([np.mean, np.std, np.min, np.max])\n",
      "C:\\Users\\79918\\AppData\\Local\\Temp\\ipykernel_21472\\1671118172.py:1: FutureWarning: The provided callable <function max at 0x000001E8B85B6020> is currently using SeriesGroupBy.max. In a future version of pandas, the provided callable will be used directly. To keep current behavior pass the string \"max\" instead.\n",
      "  df_group = df.groupby('vendor_id')['price'].agg([np.mean, np.std, np.min, np.max])\n"
     ]
    },
    {
     "data": {
      "text/plain": [
       "pandas.core.frame.DataFrame"
      ]
     },
     "execution_count": 126,
     "metadata": {},
     "output_type": "execute_result"
    }
   ],
   "source": [
    "df.groupby('vendor_id')['price'].agg([np.mean, np.std, np.min, np.max])"
   ]
  },
  {
   "cell_type": "code",
   "execution_count": 132,
   "id": "3afaa9d9-ec37-42f4-a069-a4fcedf69c43",
   "metadata": {},
   "outputs": [
    {
     "data": {
      "text/plain": [
       "pandas.core.frame.DataFrame"
      ]
     },
     "execution_count": 132,
     "metadata": {},
     "output_type": "execute_result"
    }
   ],
   "source": [
    "#переобразовываем полученную серию в Датафрейм\n",
    "type(df_group.reset_index())"
   ]
  },
  {
   "cell_type": "code",
   "execution_count": 134,
   "id": "d4c6554c-8e6c-4b16-9fd2-706059eb7654",
   "metadata": {},
   "outputs": [
    {
     "data": {
      "text/plain": [
       "pandas.core.frame.DataFrame"
      ]
     },
     "execution_count": 134,
     "metadata": {},
     "output_type": "execute_result"
    }
   ],
   "source": [
    "type(df_group.to_frame())"
   ]
  }
 ],
 "metadata": {
  "kernelspec": {
   "display_name": "Python 3 (ipykernel)",
   "language": "python",
   "name": "python3"
  },
  "language_info": {
   "codemirror_mode": {
    "name": "ipython",
    "version": 3
   },
   "file_extension": ".py",
   "mimetype": "text/x-python",
   "name": "python",
   "nbconvert_exporter": "python",
   "pygments_lexer": "ipython3",
   "version": "3.12.4"
  }
 },
 "nbformat": 4,
 "nbformat_minor": 5
}
