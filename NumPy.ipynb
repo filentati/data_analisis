{
 "cells": [
  {
   "cell_type": "code",
   "execution_count": 5,
   "id": "0b7fcaab-8d48-46d5-b190-1c7ca6da986b",
   "metadata": {},
   "outputs": [],
   "source": [
    "import numpy as np"
   ]
  },
  {
   "cell_type": "code",
   "execution_count": 7,
   "id": "6ae1a06b-a09a-4eca-881e-8a450f01ac64",
   "metadata": {},
   "outputs": [
    {
     "data": {
      "text/plain": [
       "array([[5.2, 3. , 4.5],\n",
       "       [9.1, 0.1, 0.3]])"
      ]
     },
     "execution_count": 7,
     "metadata": {},
     "output_type": "execute_result"
    }
   ],
   "source": [
    "data1 = [[5.2, 3.0, 4.5], [9.1, 0.1, 0.3]]\n",
    "#начнем работу с массивом\n",
    "arr1 = np.array(data1)\n",
    "arr1"
   ]
  },
  {
   "cell_type": "code",
   "execution_count": 11,
   "id": "b55a2856-4572-4402-9064-0abf77c58259",
   "metadata": {},
   "outputs": [
    {
     "data": {
      "text/plain": [
       "2"
      ]
     },
     "execution_count": 11,
     "metadata": {},
     "output_type": "execute_result"
    }
   ],
   "source": [
    "#количество измерений\n",
    "arr1.ndim"
   ]
  },
  {
   "cell_type": "code",
   "execution_count": 13,
   "id": "2c643a6e-1b37-4aee-a48f-9f35fb2c5a5f",
   "metadata": {},
   "outputs": [
    {
     "data": {
      "text/plain": [
       "6"
      ]
     },
     "execution_count": 13,
     "metadata": {},
     "output_type": "execute_result"
    }
   ],
   "source": [
    "#размер массива\n",
    "arr1.size"
   ]
  },
  {
   "cell_type": "code",
   "execution_count": 15,
   "id": "e316b5e1-9eb4-4eae-a7a4-6cccce26ad7f",
   "metadata": {},
   "outputs": [
    {
     "data": {
      "text/plain": [
       "(2, 3)"
      ]
     },
     "execution_count": 15,
     "metadata": {},
     "output_type": "execute_result"
    }
   ],
   "source": [
    "#форма массива\n",
    "arr1.shape"
   ]
  },
  {
   "cell_type": "code",
   "execution_count": 19,
   "id": "c3e23db6-1cea-43a0-ba46-9b07ec754f48",
   "metadata": {},
   "outputs": [
    {
     "data": {
      "text/plain": [
       "dtype('float64')"
      ]
     },
     "execution_count": 19,
     "metadata": {},
     "output_type": "execute_result"
    }
   ],
   "source": [
    "arr1.dtype"
   ]
  },
  {
   "cell_type": "code",
   "execution_count": 33,
   "id": "66b563ed-ccac-4a4e-952d-769cb5c47358",
   "metadata": {},
   "outputs": [
    {
     "data": {
      "text/plain": [
       "8"
      ]
     },
     "execution_count": 33,
     "metadata": {},
     "output_type": "execute_result"
    }
   ],
   "source": [
    "#количество элементов массива\n",
    "arr1.itemsize"
   ]
  },
  {
   "cell_type": "markdown",
   "id": "94d2f953-7e63-4058-ab5c-121eadd66b52",
   "metadata": {},
   "source": [
    "## Методы библиотеки Numpy"
   ]
  },
  {
   "cell_type": "code",
   "execution_count": 27,
   "id": "f6da522b-5d33-43bf-944d-ae32236e9b8f",
   "metadata": {},
   "outputs": [
    {
     "data": {
      "text/plain": [
       "array([0., 0., 0., 0., 0., 0., 0., 0., 0., 0.])"
      ]
     },
     "execution_count": 27,
     "metadata": {},
     "output_type": "execute_result"
    }
   ],
   "source": [
    "#метод создает массив, состоящий из n количества нулей\n",
    "np.zeros(10)"
   ]
  },
  {
   "cell_type": "code",
   "execution_count": 31,
   "id": "3fd9feb7-0c9d-4062-91e5-9a01c742162f",
   "metadata": {},
   "outputs": [
    {
     "data": {
      "text/plain": [
       "array([[1., 1.],\n",
       "       [1., 1.]])"
      ]
     },
     "execution_count": 31,
     "metadata": {},
     "output_type": "execute_result"
    }
   ],
   "source": [
    "#создает массив, состоящий из единиц\n",
    "np.ones((2, 2))"
   ]
  },
  {
   "cell_type": "code",
   "execution_count": 35,
   "id": "181552df-8031-4f83-9cea-3186ea0cf01c",
   "metadata": {},
   "outputs": [
    {
     "data": {
      "text/plain": [
       "array([ 0,  1,  2,  3,  4,  5,  6,  7,  8,  9, 10, 11, 12, 13, 14])"
      ]
     },
     "execution_count": 35,
     "metadata": {},
     "output_type": "execute_result"
    }
   ],
   "source": [
    "np.arange(15)"
   ]
  },
  {
   "cell_type": "code",
   "execution_count": 45,
   "id": "bc2b7ca9-ef0b-4b94-92ca-c89d644886e6",
   "metadata": {},
   "outputs": [
    {
     "data": {
      "text/plain": [
       "array([1. , 1.5, 2. , 2.5, 3. , 3.5, 4. , 4.5, 5. ])"
      ]
     },
     "execution_count": 45,
     "metadata": {},
     "output_type": "execute_result"
    }
   ],
   "source": [
    "#метод, позволяющий создать массив от arg1 до arg2, включив в него arg3 аргумента\n",
    "np.linspace(1, 5, 9)"
   ]
  },
  {
   "cell_type": "code",
   "execution_count": 51,
   "id": "985eaaf7-efef-4376-9774-2f9457bd9509",
   "metadata": {},
   "outputs": [
    {
     "data": {
      "text/plain": [
       "array([[1., 0., 0.],\n",
       "       [0., 1., 0.],\n",
       "       [0., 0., 1.]])"
      ]
     },
     "execution_count": 51,
     "metadata": {},
     "output_type": "execute_result"
    }
   ],
   "source": [
    "# создание единичной матрицы\n",
    "np.eye(3)"
   ]
  },
  {
   "cell_type": "markdown",
   "id": "4fe42f4d-e5b9-49a8-9db0-057308820b5a",
   "metadata": {},
   "source": [
    "## Операции между массивами и скалярами"
   ]
  },
  {
   "cell_type": "code",
   "execution_count": 60,
   "id": "52f347d2-b4fc-4618-b6e4-02333fa880f9",
   "metadata": {},
   "outputs": [],
   "source": [
    "arr2 = np.array([[1.0, 2.0, 3.0], [4.0, 5.0, 6.0,]])"
   ]
  },
  {
   "cell_type": "code",
   "execution_count": 62,
   "id": "5765d644-bf7b-4879-8be8-768ae2d4d32f",
   "metadata": {},
   "outputs": [
    {
     "data": {
      "text/plain": [
       "array([[ 1.,  4.,  9.],\n",
       "       [16., 25., 36.]])"
      ]
     },
     "execution_count": 62,
     "metadata": {},
     "output_type": "execute_result"
    }
   ],
   "source": [
    "arr2*arr2"
   ]
  },
  {
   "cell_type": "code",
   "execution_count": 64,
   "id": "085354c3-e1fe-46ba-b182-32a13b01da04",
   "metadata": {},
   "outputs": [
    {
     "data": {
      "text/plain": [
       "array([[0., 0., 0.],\n",
       "       [0., 0., 0.]])"
      ]
     },
     "execution_count": 64,
     "metadata": {},
     "output_type": "execute_result"
    }
   ],
   "source": [
    "arr2-arr2"
   ]
  },
  {
   "cell_type": "code",
   "execution_count": 68,
   "id": "ebd5be24-6951-4088-858d-c8649d540f1d",
   "metadata": {},
   "outputs": [
    {
     "data": {
      "text/plain": [
       "array([[1.        , 0.5       , 0.33333333],\n",
       "       [0.25      , 0.2       , 0.16666667]])"
      ]
     },
     "execution_count": 68,
     "metadata": {},
     "output_type": "execute_result"
    }
   ],
   "source": [
    "1/arr2"
   ]
  },
  {
   "cell_type": "markdown",
   "id": "b1fe2c33-6d68-4fce-97e0-db495994b918",
   "metadata": {},
   "source": [
    "## Случайные массивы"
   ]
  },
  {
   "cell_type": "code",
   "execution_count": 71,
   "id": "0b1e5d7e-b8c2-4494-a4a5-2adfbf458f47",
   "metadata": {},
   "outputs": [
    {
     "data": {
      "text/plain": [
       "array([[ 1.36990946,  1.05373365],\n",
       "       [ 1.17312396, -1.17859004],\n",
       "       [-0.35843836, -1.14562057]])"
      ]
     },
     "execution_count": 71,
     "metadata": {},
     "output_type": "execute_result"
    }
   ],
   "source": [
    "np.random.randn(3, 2)"
   ]
  },
  {
   "cell_type": "code",
   "execution_count": 73,
   "id": "25562104-e272-4e0b-b14a-4d6627eabb83",
   "metadata": {},
   "outputs": [
    {
     "data": {
      "text/plain": [
       "array([175, 626, 828, 484])"
      ]
     },
     "execution_count": 73,
     "metadata": {},
     "output_type": "execute_result"
    }
   ],
   "source": [
    "np.random.randint(1, 1000, 4)"
   ]
  },
  {
   "cell_type": "markdown",
   "id": "f3a6654a-84f7-411a-859e-3cb6bd0659b9",
   "metadata": {},
   "source": [
    "## Индексирование "
   ]
  },
  {
   "cell_type": "code",
   "execution_count": 76,
   "id": "506c0a89-b131-4bb5-8962-026283c78457",
   "metadata": {},
   "outputs": [
    {
     "data": {
      "text/plain": [
       "array([ 8,  9, 10, 11])"
      ]
     },
     "execution_count": 76,
     "metadata": {},
     "output_type": "execute_result"
    }
   ],
   "source": [
    "np.arange(15)[8:12]"
   ]
  },
  {
   "cell_type": "code",
   "execution_count": 84,
   "id": "b5c1984b-aa72-47ae-a82d-075598237ad3",
   "metadata": {},
   "outputs": [
    {
     "data": {
      "text/plain": [
       "array([7, 8, 9])"
      ]
     },
     "execution_count": 84,
     "metadata": {},
     "output_type": "execute_result"
    }
   ],
   "source": [
    "arr2d = np.array([[1, 2, 3], [4, 5, 6], [7, 8, 9]])\n",
    "arr2d[2]"
   ]
  },
  {
   "cell_type": "code",
   "execution_count": 86,
   "id": "2d4c2537-3666-4b57-9ca2-130785f420e8",
   "metadata": {},
   "outputs": [
    {
     "data": {
      "text/plain": [
       "2"
      ]
     },
     "execution_count": 86,
     "metadata": {},
     "output_type": "execute_result"
    }
   ],
   "source": [
    "arr2d[0, 1]"
   ]
  },
  {
   "cell_type": "code",
   "execution_count": 88,
   "id": "05dac200-c716-4a0f-83f7-657e50b95838",
   "metadata": {},
   "outputs": [
    {
     "data": {
      "text/plain": [
       "2"
      ]
     },
     "execution_count": 88,
     "metadata": {},
     "output_type": "execute_result"
    }
   ],
   "source": [
    "arr2d[0][1]"
   ]
  },
  {
   "cell_type": "markdown",
   "id": "b700ee3e-291c-4b02-a975-00ba15b305d5",
   "metadata": {},
   "source": [
    "### Булевое индексирование"
   ]
  },
  {
   "cell_type": "code",
   "execution_count": 92,
   "id": "da400307-01fb-45ca-9b9f-f0d29e5a5cbd",
   "metadata": {},
   "outputs": [
    {
     "data": {
      "text/plain": [
       "array([ True, False, False,  True])"
      ]
     },
     "execution_count": 92,
     "metadata": {},
     "output_type": "execute_result"
    }
   ],
   "source": [
    "names = np.array(['Bob', 'Mary', 'Den', 'Bob'])\n",
    "names == 'Bob'"
   ]
  },
  {
   "cell_type": "code",
   "execution_count": 94,
   "id": "e8efbc92-2c7a-4349-9542-d53226abc042",
   "metadata": {},
   "outputs": [
    {
     "data": {
      "text/plain": [
       "array([ True,  True, False,  True])"
      ]
     },
     "execution_count": 94,
     "metadata": {},
     "output_type": "execute_result"
    }
   ],
   "source": [
    "mask = (names == 'Bob') | (names == 'Mary')\n",
    "mask"
   ]
  },
  {
   "cell_type": "code",
   "execution_count": 96,
   "id": "dddcc22f-b3e0-481f-a4f7-aa5c0d61c595",
   "metadata": {},
   "outputs": [
    {
     "data": {
      "text/plain": [
       "array(['Bob', 'Mary', 'Bob'], dtype='<U4')"
      ]
     },
     "execution_count": 96,
     "metadata": {},
     "output_type": "execute_result"
    }
   ],
   "source": [
    "names[mask]"
   ]
  },
  {
   "cell_type": "markdown",
   "id": "3668f3e1-b467-49e6-b708-9e296641bd87",
   "metadata": {},
   "source": [
    "## Транспонирование массивов"
   ]
  },
  {
   "cell_type": "code",
   "execution_count": 110,
   "id": "a5ee8b3e-d461-4283-9f8b-78292c807102",
   "metadata": {},
   "outputs": [
    {
     "data": {
      "text/plain": [
       "array([[1., 2., 3.],\n",
       "       [4., 5., 6.]])"
      ]
     },
     "execution_count": 110,
     "metadata": {},
     "output_type": "execute_result"
    }
   ],
   "source": [
    "arr2"
   ]
  },
  {
   "cell_type": "code",
   "execution_count": 104,
   "id": "74a82554-4c20-4520-9759-5f7b3086092f",
   "metadata": {},
   "outputs": [
    {
     "data": {
      "text/plain": [
       "(2, 3)"
      ]
     },
     "execution_count": 104,
     "metadata": {},
     "output_type": "execute_result"
    }
   ],
   "source": [
    "arr2.shape"
   ]
  },
  {
   "cell_type": "code",
   "execution_count": 106,
   "id": "98e28ffc-4b39-414c-830b-4a5acff92cc3",
   "metadata": {},
   "outputs": [
    {
     "data": {
      "text/plain": [
       "(3, 2)"
      ]
     },
     "execution_count": 106,
     "metadata": {},
     "output_type": "execute_result"
    }
   ],
   "source": [
    "arr2.T.shape"
   ]
  },
  {
   "cell_type": "code",
   "execution_count": 108,
   "id": "cea86a92-4264-4ed2-948a-a17656690968",
   "metadata": {},
   "outputs": [
    {
     "data": {
      "text/plain": [
       "array([[1., 4.],\n",
       "       [2., 5.],\n",
       "       [3., 6.]])"
      ]
     },
     "execution_count": 108,
     "metadata": {},
     "output_type": "execute_result"
    }
   ],
   "source": [
    "arr2.T"
   ]
  },
  {
   "cell_type": "markdown",
   "id": "920a3b45-1865-43bf-8ea0-3142c2159352",
   "metadata": {},
   "source": [
    "## Математические и статистические операции"
   ]
  },
  {
   "cell_type": "code",
   "execution_count": 119,
   "id": "d1e87488-e6fb-41e4-9729-4fb36c7dced4",
   "metadata": {},
   "outputs": [
    {
     "data": {
      "text/plain": [
       "array([[ 0.47321571,  0.20432917,  0.27632659,  1.32652852],\n",
       "       [-1.00016652, -0.03583416, -1.86344745, -1.36122076],\n",
       "       [-1.04080214, -1.02585115,  1.33168874, -0.70308814],\n",
       "       [-1.74899585, -1.16552318,  0.2681268 , -0.56546183],\n",
       "       [-0.68349947,  1.35250689, -1.12484043, -1.13804402]])"
      ]
     },
     "execution_count": 119,
     "metadata": {},
     "output_type": "execute_result"
    }
   ],
   "source": [
    "arr = np.random.randn(5, 4)\n",
    "arr"
   ]
  },
  {
   "cell_type": "code",
   "execution_count": 121,
   "id": "edd542f6-efeb-4f1b-af94-e2d722605960",
   "metadata": {},
   "outputs": [
    {
     "data": {
      "text/plain": [
       "(5, 4)"
      ]
     },
     "execution_count": 121,
     "metadata": {},
     "output_type": "execute_result"
    }
   ],
   "source": [
    "arr.shape"
   ]
  },
  {
   "cell_type": "code",
   "execution_count": 125,
   "id": "2bface58-a3fb-4c21-b0f3-e0600e58ac68",
   "metadata": {},
   "outputs": [
    {
     "data": {
      "text/plain": [
       "-0.41120263354819536"
      ]
     },
     "execution_count": 125,
     "metadata": {},
     "output_type": "execute_result"
    }
   ],
   "source": [
    "# среднее значение\n",
    "arr.mean()"
   ]
  },
  {
   "cell_type": "code",
   "execution_count": 127,
   "id": "473eb19d-208a-4998-a494-2dea50eff67c",
   "metadata": {},
   "outputs": [
    {
     "data": {
      "text/plain": [
       "array([-4.00024825, -0.67037242, -1.11214576, -2.44128624])"
      ]
     },
     "execution_count": 127,
     "metadata": {},
     "output_type": "execute_result"
    }
   ],
   "source": [
    "# сумма элементов на заданной оси, то есть по строкам\n",
    "arr.sum(axis = 0)"
   ]
  },
  {
   "cell_type": "markdown",
   "id": "35624386-9e44-47dd-8bc5-d48c58c448b1",
   "metadata": {},
   "source": [
    "## Сортировка"
   ]
  },
  {
   "cell_type": "code",
   "execution_count": 130,
   "id": "11fc86e0-f5b5-40cf-adf4-b5099a4cb6bf",
   "metadata": {},
   "outputs": [
    {
     "data": {
      "text/plain": [
       "array([ 1.22302408, -0.51627746,  0.3745496 , -2.83245914, -0.58146127,\n",
       "        0.5808545 ,  0.00975949,  0.9707919 ])"
      ]
     },
     "execution_count": 130,
     "metadata": {},
     "output_type": "execute_result"
    }
   ],
   "source": [
    "arr = np.random.randn(8)\n",
    "arr"
   ]
  },
  {
   "cell_type": "code",
   "execution_count": 138,
   "id": "dfc5476f-f0e6-424d-a95b-aa8509a4214e",
   "metadata": {},
   "outputs": [
    {
     "data": {
      "text/plain": [
       "array([-2.83245914, -0.58146127, -0.51627746,  0.00975949,  0.3745496 ,\n",
       "        0.5808545 ,  0.9707919 ,  1.22302408])"
      ]
     },
     "execution_count": 138,
     "metadata": {},
     "output_type": "execute_result"
    }
   ],
   "source": [
    "arr.sort()\n",
    "arr"
   ]
  },
  {
   "cell_type": "code",
   "execution_count": 166,
   "id": "fa9d4d8c-7765-42fb-82fe-e3f82b5fa392",
   "metadata": {},
   "outputs": [
    {
     "data": {
      "text/plain": [
       "array([[-0.52773673, -1.04492317, -1.34129086],\n",
       "       [-1.49529307,  0.03296084,  0.02690559],\n",
       "       [ 0.31311775, -1.00108019,  0.56014021],\n",
       "       [ 0.73780067, -0.38735036,  0.61740197],\n",
       "       [-0.35100869, -0.30060843,  0.32004949]])"
      ]
     },
     "execution_count": 166,
     "metadata": {},
     "output_type": "execute_result"
    }
   ],
   "source": [
    "arr = np.random.randn(5, 3)\n",
    "arr"
   ]
  },
  {
   "cell_type": "code",
   "execution_count": 164,
   "id": "72a25a18-e4b8-4bda-bc11-6b33655b91cb",
   "metadata": {},
   "outputs": [
    {
     "data": {
      "text/plain": [
       "array([[-1.05516824, -0.97166061, -0.57759379],\n",
       "       [-0.65981052, -0.9279991 , -0.31056646],\n",
       "       [-0.28434258,  0.37982282,  0.17657016],\n",
       "       [ 0.46255043,  0.7953953 ,  0.52449735],\n",
       "       [ 0.85196252,  1.70282303,  0.696328  ]])"
      ]
     },
     "execution_count": 164,
     "metadata": {},
     "output_type": "execute_result"
    }
   ],
   "source": [
    "#сортировка с учетом строк\n",
    "arr.sort(0)\n",
    "arr"
   ]
  },
  {
   "cell_type": "code",
   "execution_count": 168,
   "id": "a13faeb5-b42e-46fc-b14a-48f9c48dc276",
   "metadata": {},
   "outputs": [
    {
     "data": {
      "text/plain": [
       "array([[-1.34129086, -1.04492317, -0.52773673],\n",
       "       [-1.49529307,  0.02690559,  0.03296084],\n",
       "       [-1.00108019,  0.31311775,  0.56014021],\n",
       "       [-0.38735036,  0.61740197,  0.73780067],\n",
       "       [-0.35100869, -0.30060843,  0.32004949]])"
      ]
     },
     "execution_count": 168,
     "metadata": {},
     "output_type": "execute_result"
    }
   ],
   "source": [
    "#сортировка с учетом столбцов\n",
    "arr.sort(1)\n",
    "arr"
   ]
  },
  {
   "cell_type": "markdown",
   "id": "5747d493-54bb-4986-b57f-d6a2028de670",
   "metadata": {},
   "source": [
    "## Сохрание массивов на диске в двоичном формате"
   ]
  },
  {
   "cell_type": "code",
   "execution_count": 171,
   "id": "8c78dc34-1c83-4ceb-a6f7-1a77c863c731",
   "metadata": {},
   "outputs": [
    {
     "data": {
      "text/plain": [
       "array([0, 1, 2, 3, 4, 5, 6, 7, 8, 9])"
      ]
     },
     "execution_count": 171,
     "metadata": {},
     "output_type": "execute_result"
    }
   ],
   "source": [
    "arr = np.arange(10)\n",
    "arr"
   ]
  },
  {
   "cell_type": "code",
   "execution_count": 179,
   "id": "176924c2-ab7a-4c9f-8e35-6157a5146369",
   "metadata": {},
   "outputs": [],
   "source": [
    "np.save('some_array', arr)"
   ]
  },
  {
   "cell_type": "code",
   "execution_count": 183,
   "id": "4a3d6e27-c940-4e84-9197-58b252103f7c",
   "metadata": {},
   "outputs": [
    {
     "data": {
      "text/plain": [
       "array([0, 1, 2, 3, 4, 5, 6, 7, 8, 9])"
      ]
     },
     "execution_count": 183,
     "metadata": {},
     "output_type": "execute_result"
    }
   ],
   "source": [
    "np.load('some_array.npy')"
   ]
  },
  {
   "cell_type": "code",
   "execution_count": 185,
   "id": "131826e2-7318-4f62-a1c8-12544480f193",
   "metadata": {},
   "outputs": [],
   "source": [
    "# Сохраним несколько массивов в zip архиве\n",
    "np.savez('some_array.npz', a = arr, b = arr)"
   ]
  },
  {
   "cell_type": "code",
   "execution_count": 187,
   "id": "83d7ef36-3592-4bb5-b703-292c7f43e80a",
   "metadata": {},
   "outputs": [
    {
     "data": {
      "text/plain": [
       "array([0, 1, 2, 3, 4, 5, 6, 7, 8, 9])"
      ]
     },
     "execution_count": 187,
     "metadata": {},
     "output_type": "execute_result"
    }
   ],
   "source": [
    "arr_ = np.load('some_array.npz')\n",
    "arr_['b']"
   ]
  },
  {
   "cell_type": "markdown",
   "id": "e7b94024-ddae-46e1-8334-11efa6a8e111",
   "metadata": {},
   "source": [
    "#### Задание\n",
    "\n",
    "Создайте вектор NumPy, который содержит значение от 10 до 500. Возведите все значения вектора в квадрат и вычтите из каждого элементавектора число 234. Чему равна сумма всех элементов, получившегося вектора?"
   ]
  },
  {
   "cell_type": "code",
   "execution_count": 201,
   "id": "fbe41fa4-26c8-4bff-89df-cbbf22213ae6",
   "metadata": {},
   "outputs": [
    {
     "data": {
      "text/plain": [
       "41672152"
      ]
     },
     "execution_count": 201,
     "metadata": {},
     "output_type": "execute_result"
    }
   ],
   "source": [
    "vector = np.arange(10, 501)\n",
    "new_vector = pow(vector, 2) - 243\n",
    "new_vector.sum()"
   ]
  },
  {
   "cell_type": "code",
   "execution_count": null,
   "id": "a3cd297c-97ff-46b5-a508-76b374c32a6f",
   "metadata": {},
   "outputs": [],
   "source": []
  }
 ],
 "metadata": {
  "kernelspec": {
   "display_name": "Python 3 (ipykernel)",
   "language": "python",
   "name": "python3"
  },
  "language_info": {
   "codemirror_mode": {
    "name": "ipython",
    "version": 3
   },
   "file_extension": ".py",
   "mimetype": "text/x-python",
   "name": "python",
   "nbconvert_exporter": "python",
   "pygments_lexer": "ipython3",
   "version": "3.12.4"
  }
 },
 "nbformat": 4,
 "nbformat_minor": 5
}
